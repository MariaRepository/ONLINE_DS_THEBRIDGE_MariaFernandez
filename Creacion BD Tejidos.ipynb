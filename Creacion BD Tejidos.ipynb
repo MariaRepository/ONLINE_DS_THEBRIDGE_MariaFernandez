{
 "cells": [
  {
   "cell_type": "markdown",
   "metadata": {},
   "source": [
    "<div align=\"center\">\n",
    "  <img src=\"ribant.png\" alt=\"Ribes\">\n",
    "</div>\n",
    "\n",
    "\n",
    "## <p align=\"center\">Pasión por los tejidos desde 1933.</p>\n",
    "\n",
    "<div align=\"center\">\n",
    "  <img src=\"ribes-casals.png\" alt=\"Ribes\">\n",
    "</div>\n",
    "\n",
    "## <p align=\"center\">Nos dedicamos a la venta de telas al mayor y detall desde hace más de 90 años, siendo líderes en venta de tejidos al detalle.</p>\n",
    "\n"
   ]
  },
  {
   "cell_type": "markdown",
   "metadata": {},
   "source": [
    "<div align=\"center\">\n",
    "  <img src=\"tela.jpg\" alt=\"Tela\">\n",
    "</div>"
   ]
  },
  {
   "cell_type": "markdown",
   "metadata": {},
   "source": [
    "## <p align=\"center\">Modelo de datos</p>\n"
   ]
  },
  {
   "cell_type": "markdown",
   "metadata": {},
   "source": [
    "![modelo.jpg](Modelo_datos.jpeg)"
   ]
  },
  {
   "cell_type": "code",
   "execution_count": 5,
   "metadata": {},
   "outputs": [],
   "source": [
    "import pandas as pd\n",
    "import sqlite3"
   ]
  },
  {
   "cell_type": "code",
   "execution_count": 6,
   "metadata": {},
   "outputs": [
    {
     "ename": "OperationalError",
     "evalue": "unable to open database file",
     "output_type": "error",
     "traceback": [
      "\u001b[1;31m---------------------------------------------------------------------------\u001b[0m",
      "\u001b[1;31mOperationalError\u001b[0m                          Traceback (most recent call last)",
      "Cell \u001b[1;32mIn[6], line 2\u001b[0m\n\u001b[0;32m      1\u001b[0m \u001b[38;5;66;03m# Conexión a la base de datos y creacion implicta de la mmisma si no existiera previamente\u001b[39;00m\n\u001b[1;32m----> 2\u001b[0m conexion \u001b[38;5;241m=\u001b[39m \u001b[43msqlite3\u001b[49m\u001b[38;5;241;43m.\u001b[39;49m\u001b[43mconnect\u001b[49m\u001b[43m(\u001b[49m\u001b[38;5;124;43m\"\u001b[39;49m\u001b[38;5;124;43mC:/Users/Usuario/Desktop/REPOS/TeamChallenger6/Base de Datos/Tejidos.db\u001b[39;49m\u001b[38;5;124;43m\"\u001b[39;49m\u001b[43m)\u001b[49m\n\u001b[0;32m      3\u001b[0m cursor \u001b[38;5;241m=\u001b[39m conexion\u001b[38;5;241m.\u001b[39mcursor()\n",
      "\u001b[1;31mOperationalError\u001b[0m: unable to open database file"
     ]
    }
   ],
   "source": [
    "# Conexión a la base de datos y creacion implicta de la mmisma si no existiera previamente\n",
    "conexion = sqlite3.connect(\"C:/Users/Usuario/Desktop/REPOS/TeamChallenger6/Base de Datos/Tejidos.db\")\n",
    "cursor = conexion.cursor()"
   ]
  },
  {
   "cell_type": "code",
   "execution_count": 5,
   "metadata": {},
   "outputs": [
    {
     "data": {
      "text/plain": [
       "<sqlite3.Cursor at 0x211c67ab5c0>"
      ]
     },
     "execution_count": 5,
     "metadata": {},
     "output_type": "execute_result"
    }
   ],
   "source": [
    "# Creamos la tabla Proveedor\n",
    "query = '''\n",
    "CREATE TABLE Proveedor (\n",
    "    ID_Proveedor INTEGER PRIMARY KEY,\n",
    "    Nombre TEXT,\n",
    "    Direccion TEXT,\n",
    "    Ciudad TEXT,\n",
    "    Provincia TEXT\n",
    ")\n",
    "'''\n",
    "cursor.execute(query)"
   ]
  },
  {
   "cell_type": "code",
   "execution_count": null,
   "metadata": {},
   "outputs": [],
   "source": [
    "#** MARIA: NO LO HE EJECUTADO AÚN A FALTA DE VERLO JUNTOS\n",
    "\n",
    "# Rellenamos con 20 datos la tabla Proveedor\n",
    "\n",
    "# Datos  de proveedores de tejidos\n",
    "datos_proveedor_tejidos = [\n",
    "    (1, 'Tejidos Hermanos López', 'Calle Mayor 123', 'Madrid', 'Madrid'),\n",
    "    (2, 'Textil Martínez', 'Avenida Libertad 456', 'Barcelona', 'Barcelona'),\n",
    "    (3, 'Telas y Más', 'Calle Gran Vía 789', 'Valencia', 'Valencia'),\n",
    "    (4, 'Tejidos Sánchez e Hijos', 'Calle San Juan 101', 'Sevilla', 'Sevilla'),\n",
    "    (5, 'Textiles del Sur', 'Calle Mayor 555', 'Málaga', 'Málaga'),\n",
    "    (6, 'Tejidos Gómez', 'Avenida de la Playa 777', 'Alicante', 'Alicante'),\n",
    "    (7, 'Telas Modernas', 'Calle Comercial 888', 'Zaragoza', 'Zaragoza'),\n",
    "    (8, 'Tejidos Hermanos Pérez', 'Calle Mayor 999', 'Murcia', 'Murcia'),\n",
    "    (9, 'Textiles del Norte', 'Calle Bilbao 333', 'Bilbao', 'Vizcaya'),\n",
    "    (10, 'Tejidos del Centro', 'Plaza Mayor 222', 'Valladolid', 'Valladolid'),\n",
    "    (11, 'Telas Especiales', 'Avenida de la Moda 111', 'Granada', 'Granada'),\n",
    "    (12, 'Tejidos Rodríguez', 'Calle Principal 444', 'Córdoba', 'Córdoba'),\n",
    "    (13, 'Textiles Andaluces', 'Calle del Sol 666', 'Cádiz', 'Cádiz'),\n",
    "    (14, 'Tejidos del Este', 'Avenida del Mar 777', 'Almería', 'Almería'),\n",
    "    (15, 'Telas Elegantes', 'Calle Elegancia 888', 'Toledo', 'Toledo'),\n",
    "    (16, 'Tejidos Rápidos', 'Avenida Velocidad 999', 'Guadalajara', 'Guadalajara'),\n",
    "    (17, 'Textiles del Oeste', 'Calle del Oeste 333', 'Salamanca', 'Salamanca'),\n",
    "    (18, 'Tejidos Modernos', 'Avenida de la Moda 111', 'Segovia', 'Segovia'),\n",
    "    (19, 'Telas Innovadoras', 'Calle de la Innovación 444', 'Ávila', 'Ávila'),\n",
    "    (20, 'Tejidos Creativos', 'Calle Creativa 777', 'Cuenca', 'Cuenca'),\n",
    "]\n",
    "\n",
    "# Insertar datos en la tabla Proveedor\n",
    "insert_query_tejidos = \"INSERT INTO Proveedor (ID_Proveedor, Nombre, Direccion, Ciudad, Provincia) VALUES (?, ?, ?, ?, ?)\"\n",
    "\n",
    "# Ejecutar la sentencia SQL para insertar los datos en la tabla\n",
    "cursor.executemany(insert_query_tejidos, datos_proveedor_tejidos)\n",
    "\n",
    "# Confirmar la transacción\n",
    "connection.commit()\n"
   ]
  },
  {
   "cell_type": "code",
   "execution_count": 8,
   "metadata": {},
   "outputs": [
    {
     "data": {
      "text/plain": [
       "<sqlite3.Cursor at 0x211c67ab5c0>"
      ]
     },
     "execution_count": 8,
     "metadata": {},
     "output_type": "execute_result"
    }
   ],
   "source": [
    "# Creamos la tabla Categoria\n",
    "query = '''\n",
    "CREATE TABLE Categoria (\n",
    "    ID_Categoria INTEGER PRIMARY KEY,\n",
    "    Nombre TEXT)\n",
    "'''\n",
    "cursor.execute(query)"
   ]
  },
  {
   "cell_type": "code",
   "execution_count": null,
   "metadata": {},
   "outputs": [],
   "source": [
    "#** MARIA: NO LO HE EJECUTADO AÚN A FALTA DE VERLO JUNTOS\n",
    "\n",
    "# Datos de 20 categorías de tejidos\n",
    "datos_categoria_tejidos = [\n",
    "    (1, 'Algodón'),\n",
    "    (2, 'Lino'),\n",
    "    (3, 'Seda'),\n",
    "    (4, 'Lana'),\n",
    "    (5, 'Poliéster'),\n",
    "    (6, 'Viscosa'),\n",
    "    (7, 'Rayón'),\n",
    "    (8, 'Nylon'),\n",
    "    (9, 'Spandex'),\n",
    "    (10, 'Fibra sintética'),\n",
    "]\n",
    "\n",
    "# Insertar datos en la tabla Categoria\n",
    "insert_query_categorias = \"INSERT INTO Categoria (ID_Categoria, Nombre) VALUES (?, ?)\"\n",
    "\n",
    "# Ejecutar la sentencia SQL para insertar los datos en la tabla\n",
    "cursor.executemany(insert_query_categorias, datos_categoria_tejidos)\n",
    "\n",
    "# Confirmar la transacción\n",
    "connection.commit()\n",
    "\n"
   ]
  },
  {
   "cell_type": "code",
   "execution_count": 10,
   "metadata": {},
   "outputs": [
    {
     "data": {
      "text/plain": [
       "<sqlite3.Cursor at 0x211c67ab5c0>"
      ]
     },
     "execution_count": 10,
     "metadata": {},
     "output_type": "execute_result"
    }
   ],
   "source": [
    "# Creamos la tabla Producto\n",
    "query = '''\n",
    "CREATE TABLE Producto (\n",
    "    ID_Producto INTEGER PRIMARY KEY,\n",
    "    Nombre TEXT,\n",
    "    Color TEXT,\n",
    "    Precio REAL,\n",
    "    ID_Categoria INTEGER,\n",
    "    FOREIGN KEY (ID_Categoria) REFERENCES Categoria(ID_Categoria)\n",
    ")\n",
    "'''\n",
    "cursor.execute(query)"
   ]
  },
  {
   "cell_type": "code",
   "execution_count": null,
   "metadata": {},
   "outputs": [],
   "source": [
    "#** MARIA: NO LO HE EJECUTADO AÚN A FALTA DE VERLO JUNTOS\n",
    "\n",
    "# Lista de 20 productos\n",
    "nombres_productos = [\"Algodón Suave\", \"Lana Gruesa\", \"Seda Brillante\", \"Poliéster Resistente\", \"Lino Natural\",\n",
    "                     \"Terciopelo Elegante\", \"Mohair Exclusivo\", \"Cashmere Premium\", \"Chenilla Suave\", \"Denim Resistente\",\n",
    "                     \"Satén Brillante\", \"Tweed Clásico\", \"Felpa Cálida\", \"Jacquard Intrincado\", \"Brocado Elegante\",\n",
    "                     \"Tafetán Brillante\", \"Cuero Genuino\", \"Franela Cómoda\", \"Vellón Suave\", \"Lycra Elástica\"]\n",
    "\n",
    "# Lista de colores \n",
    "colores = [\"Blanco\", \"Gris\", \"Azul\", \"Negro\", \"Beige\", \"Rojo\", \"Marrón\", \"Verde\", \"Dorado\", \"Rosa\", \"Morado\", \"Plateado\"]\n",
    "\n",
    "# Generar 20 valores  para la tabla Producto\n",
    "valores_productos = []\n",
    "for _ in range(20):\n",
    "    nombre = random.choice(nombres_productos)\n",
    "    color = random.choice(colores)\n",
    "    precio = round(random.uniform(8.0, 40.0), 2)\n",
    "    id_categoria = random.randint(1, 3)\n",
    "    valores_productos.append((nombre, color, precio, id_categoria))\n",
    "\n",
    "# Imprimir los valores generados\n",
    "for idx, valor in enumerate(valores_productos, start=1):\n",
    "    print(f\"{idx}. Nombre: {valor[0]}, Color: {valor[1]}, Precio: {valor[2]}, ID_Categoria: {valor[3]}\")\n",
    "\n",
    "\n"
   ]
  },
  {
   "cell_type": "code",
   "execution_count": 11,
   "metadata": {},
   "outputs": [
    {
     "data": {
      "text/plain": [
       "<sqlite3.Cursor at 0x211c67ab5c0>"
      ]
     },
     "execution_count": 11,
     "metadata": {},
     "output_type": "execute_result"
    }
   ],
   "source": [
    "# Creamos la tabla Pedido\n",
    "query = '''\n",
    "CREATE TABLE Pedido (\n",
    "    ID_Pedido INTEGER PRIMARY KEY,\n",
    "    Fecha_pedido DATE,\n",
    "    Fecha_entrega DATE,\n",
    "    ID_Proveedor INTEGER,\n",
    "    FOREIGN KEY (ID_Proveedor) REFERENCES Proveedor(ID_Proveedor)\n",
    "    )\n",
    "'''\n",
    "cursor.execute(query)"
   ]
  },
  {
   "cell_type": "code",
   "execution_count": null,
   "metadata": {},
   "outputs": [],
   "source": [
    "# MARIA POR REVISAR QUE PROVEEDOR SEA DE LA LISTA PROVEEDOR\n",
    "\n",
    "import random\n",
    "import datetime\n",
    "\n",
    "# Generar 20 valores \n",
    "valores_pedidos = []\n",
    "for _ in range(20):\n",
    "    fecha_pedido = datetime.datetime.now().strftime('%Y-%m-%d')\n",
    "    fecha_entrega = (datetime.datetime.now() + datetime.timedelta(days=random.randint(1, 30))).strftime('%Y-%m-%d')\n",
    "    id_proveedor = random.randint(1, 20)\n",
    "    valores_pedidos.append((fecha_pedido, fecha_entrega, id_proveedor))\n",
    "\n",
    "# Imprimir los valores generados\n",
    "for idx, valor in enumerate(valores_pedidos, start=1):\n",
    "    print(f\"{idx}. Fecha Pedido: {valor[0]}, Fecha Entrega: {valor[1]}, ID_Proveedor: {valor[2]}\")\n"
   ]
  },
  {
   "cell_type": "code",
   "execution_count": 12,
   "metadata": {},
   "outputs": [
    {
     "data": {
      "text/plain": [
       "<sqlite3.Cursor at 0x211c67ab5c0>"
      ]
     },
     "execution_count": 12,
     "metadata": {},
     "output_type": "execute_result"
    }
   ],
   "source": [
    "# Creamos la tabla LineaCesta\n",
    "query = '''\n",
    "CREATE TABLE LineaCesta (\n",
    "    ID_LineaCesta INTEGER PRIMARY KEY,\n",
    "    Cantidad INTEGER,\n",
    "    Fecha_pedido DATE,\n",
    "    Fecha_entrega DATE,\n",
    "    ID_Producto INTEGER,\n",
    "    ID_Pedido INTEGER,\n",
    "    FOREIGN KEY (ID_Producto) REFERENCES Producto(ID_Producto)\n",
    "    FOREIGN KEY (ID_Pedido) REFERENCES Pedido(ID_Pedido)\n",
    "    )\n",
    "'''\n",
    "cursor.execute(query)"
   ]
  },
  {
   "cell_type": "code",
   "execution_count": null,
   "metadata": {},
   "outputs": [],
   "source": [
    "#MARIA POR REVISAR\n",
    "# Crear una lista de tuplas de valores para la tabla LineaCesta\n",
    "valores_linea_cesta = [(i, random.randint(1, 10), \"2024-03-11\", \"2024-03-18\", random.randint(1, 20), random.randint(1, 20)) for i in range(21)]\n",
    "\n",
    "# Insertar valores en la tabla LineaCesta\n",
    "query_insert_linea_cesta = '''\n",
    "INSERT INTO LineaCesta (ID_LineaCesta, Cantidad, Fecha_pedido, Fecha_entrega, ID_Producto, ID_Pedido)\n",
    "VALUES (?, ?, ?, ?, ?, ?)\n",
    "'''\n",
    "\n",
    "# Iterar sobre los valores de la lista y ejecutar la consulta de inserción\n",
    "for valor in valores_linea_cesta:\n",
    "    cursor.execute(query_insert_linea_cesta, valor)\n",
    "\n",
    "# Confirmar la transacción\n",
    "conexion.commit()\n",
    "\n",
    "print(\"Se han insertado los valores en la tabla LineaCesta.\")\n"
   ]
  },
  {
   "cell_type": "code",
   "execution_count": 16,
   "metadata": {},
   "outputs": [
    {
     "data": {
      "text/plain": [
       "<sqlite3.Cursor at 0x211c67ab5c0>"
      ]
     },
     "execution_count": 16,
     "metadata": {},
     "output_type": "execute_result"
    }
   ],
   "source": [
    "# Creamos la tabla Catalogo\n",
    "query = '''\n",
    "CREATE TABLE Catalogo (\n",
    "    ID_Producto INTEGER,\n",
    "    ID_Proveedor INTEGER,\n",
    "    FOREIGN KEY (ID_Producto) REFERENCES Producto(ID_Producto)\n",
    "    FOREIGN KEY (ID_Proveedor) REFERENCES Pedido(ID_Proveedor)\n",
    "    CONSTRAINT ID_Catalogo PRIMARY KEY (ID_Producto, ID_Proveedor)   \n",
    "    )\n",
    "'''\n",
    "cursor.execute(query)"
   ]
  },
  {
   "cell_type": "code",
   "execution_count": null,
   "metadata": {},
   "outputs": [],
   "source": [
    "# MARIA POR REVISAR \n",
    "\n",
    "\n",
    "\n",
    "valores_catalogo = [\n",
    "    (1, 20),\n",
    "    (2, 1),\n",
    "    (3, 2),\n",
    "    (4, 3),\n",
    "    (5, 4),\n",
    "    (6, 5),\n",
    "    (7, 6),\n",
    "    (8, 7),\n",
    "    (9, 8),\n",
    "    (10, 9),\n",
    "    (11, 10),\n",
    "    (12, 11),\n",
    "    (13, 12),\n",
    "    (14, 13),\n",
    "    (15, 14),\n",
    "    (16, 15),\n",
    "    (17, 16),\n",
    "    (18, 17),\n",
    "    (19, 18),\n",
    "    (20, 19)\n",
    "]\n",
    "\n",
    "# Insertar valores en la tabla Catalogo\n",
    "query_insert = '''\n",
    "INSERT INTO Catalogo (ID_Producto, ID_Proveedor)\n",
    "VALUES (?, ?)\n",
    "'''\n",
    "\n",
    "# Iterar sobre los valores de la lista y ejecutar la consulta de inserción\n",
    "for valor in valores_catalogo:\n",
    "    cursor.execute(query_insert, valor)\n",
    "\n",
    "# Confirmar la transacción\n",
    "conexion.commit()\n",
    "\n",
    "print(\"Se han insertado los valores en la tabla Catalogo.\")\n"
   ]
  },
  {
   "cell_type": "code",
   "execution_count": 17,
   "metadata": {},
   "outputs": [
    {
     "data": {
      "text/plain": [
       "[('table',\n",
       "  'Proveedor',\n",
       "  'Proveedor',\n",
       "  2,\n",
       "  'CREATE TABLE Proveedor (\\n    ID_Proveedor INTEGER PRIMARY KEY,\\n    Nombre TEXT,\\n    Direccion TEXT,\\n    Ciudad TEXT,\\n    Provincia TEXT\\n)'),\n",
       " ('table',\n",
       "  'Categoria',\n",
       "  'Categoria',\n",
       "  3,\n",
       "  'CREATE TABLE Categoria (\\n    ID_Categoria INTEGER PRIMARY KEY,\\n    Nombre TEXT)'),\n",
       " ('table',\n",
       "  'Producto',\n",
       "  'Producto',\n",
       "  4,\n",
       "  'CREATE TABLE Producto (\\n    ID_Producto INTEGER PRIMARY KEY,\\n    Nombre TEXT,\\n    Color TEXT,\\n    Precio REAL,\\n    ID_Categoria INTEGER,\\n    FOREIGN KEY (ID_Categoria) REFERENCES Categoria(ID_Categoria)\\n)'),\n",
       " ('table',\n",
       "  'Pedido',\n",
       "  'Pedido',\n",
       "  5,\n",
       "  'CREATE TABLE Pedido (\\n    ID_Pedido INTEGER PRIMARY KEY,\\n    Fecha_pedido DATE,\\n    Fecha_entrega DATE,\\n    ID_Proveedor INTEGER,\\n    FOREIGN KEY (ID_Proveedor) REFERENCES Proveedor(ID_Proveedor)\\n    )'),\n",
       " ('table',\n",
       "  'LineaCesta',\n",
       "  'LineaCesta',\n",
       "  6,\n",
       "  'CREATE TABLE LineaCesta (\\n    ID_LineaCesta INTEGER PRIMARY KEY,\\n    Cantidad INTEGER,\\n    Fecha_pedido DATE,\\n    Fecha_entrega DATE,\\n    ID_Producto INTEGER,\\n    ID_Pedido INTEGER,\\n    FOREIGN KEY (ID_Producto) REFERENCES Producto(ID_Producto)\\n    FOREIGN KEY (ID_Pedido) REFERENCES Pedido(ID_Pedido)\\n    )'),\n",
       " ('table',\n",
       "  'Catalogo',\n",
       "  'Catalogo',\n",
       "  7,\n",
       "  'CREATE TABLE Catalogo (\\n    ID_Producto INTEGER,\\n    ID_Proveedor INTEGER,\\n    FOREIGN KEY (ID_Producto) REFERENCES Producto(ID_Producto)\\n    FOREIGN KEY (ID_Proveedor) REFERENCES Pedido(ID_Proveedor)\\n    CONSTRAINT ID_Catalogo PRIMARY KEY (ID_Producto, ID_Proveedor)   \\n    )'),\n",
       " ('index', 'sqlite_autoindex_Catalogo_1', 'Catalogo', 8, None)]"
      ]
     },
     "execution_count": 17,
     "metadata": {},
     "output_type": "execute_result"
    }
   ],
   "source": [
    "query = '''\n",
    "SELECT * \n",
    "FROM sqlite_master\n",
    "'''\n",
    "res = cursor.execute(query)\n",
    "res.fetchall()"
   ]
  },
  {
   "cell_type": "markdown",
   "metadata": {},
   "source": [
    "\n",
    "## <p align=\"center\">Y ahora podemos consultar en el sistema gracias a SQL</p>\n",
    "\n",
    "<div align=\"center\">\n",
    "  <img src=\"laptop.png\" alt=\"pc\">"
   ]
  },
  {
   "cell_type": "code",
   "execution_count": 7,
   "metadata": {},
   "outputs": [
    {
     "ename": "NameError",
     "evalue": "name 'cursor' is not defined",
     "output_type": "error",
     "traceback": [
      "\u001b[1;31m---------------------------------------------------------------------------\u001b[0m",
      "\u001b[1;31mNameError\u001b[0m                                 Traceback (most recent call last)",
      "Cell \u001b[1;32mIn[7], line 13\u001b[0m\n\u001b[0;32m      7\u001b[0m     \u001b[38;5;28;01mreturn\u001b[39;00m \u001b[38;5;28;01mNone\u001b[39;00m\n\u001b[0;32m      9\u001b[0m query\u001b[38;5;241m=\u001b[39m\u001b[38;5;124m'''\u001b[39m\n\u001b[0;32m     10\u001b[0m \u001b[38;5;124mSELECT *\u001b[39m\n\u001b[0;32m     11\u001b[0m \u001b[38;5;124mFrom catalogo\u001b[39m\n\u001b[0;32m     12\u001b[0m \u001b[38;5;124m'''\u001b[39m\n\u001b[1;32m---> 13\u001b[0m df\u001b[38;5;241m=\u001b[39m\u001b[43msql_query\u001b[49m\u001b[43m(\u001b[49m\u001b[43mquery\u001b[49m\u001b[43m)\u001b[49m\n\u001b[0;32m     14\u001b[0m df\n\u001b[0;32m     16\u001b[0m \u001b[38;5;66;03m#Por si queremos hacer df12.loc[df12[\"Country\"]==\"USA\"].groupby(\"State\",as_index=False)[\"CustomerId\"].count().sort_values(\"CustomerId\",ascending=False)\u001b[39;00m\n",
      "Cell \u001b[1;32mIn[7], line 2\u001b[0m, in \u001b[0;36msql_query\u001b[1;34m(query)\u001b[0m\n\u001b[0;32m      1\u001b[0m \u001b[38;5;28;01mdef\u001b[39;00m \u001b[38;5;21msql_query\u001b[39m(query):\n\u001b[1;32m----> 2\u001b[0m     \u001b[43mcursor\u001b[49m\u001b[38;5;241m.\u001b[39mexecute(query)\n\u001b[0;32m      3\u001b[0m     \u001b[38;5;28;01mif\u001b[39;00m query\u001b[38;5;241m.\u001b[39mlower()\u001b[38;5;241m.\u001b[39mstrip()\u001b[38;5;241m.\u001b[39mstartswith(\u001b[38;5;124m\"\u001b[39m\u001b[38;5;124mselect \u001b[39m\u001b[38;5;124m\"\u001b[39m):\n\u001b[0;32m      4\u001b[0m         ans\u001b[38;5;241m=\u001b[39m cursor\u001b[38;5;241m.\u001b[39mfetchall()\n",
      "\u001b[1;31mNameError\u001b[0m: name 'cursor' is not defined"
     ]
    }
   ],
   "source": [
    "# Función para las consultas\n",
    "def sql_query(query):\n",
    "    cursor.execute(query)\n",
    "    if query.lower().strip().startswith(\"select \"):\n",
    "        ans= cursor.fetchall()\n",
    "        names = [description[0] for description in cursor.description]\n",
    "        return pd.DataFrame(ans,columns=names)\n",
    "    return None\n",
    "\n",
    "# Consulta\n",
    "query='''\n",
    "SELECT *\n",
    "From catalogo\n",
    "'''\n",
    "df=sql_query(query)\n",
    "df\n",
    "\n",
    "# Crea un histograma para todas las columnas del DataFrame\n",
    "data.hist(figsize=(10, 6), bins=10)\n",
    "plt.tight_layout()  # Ajusta el diseño para que no se superpongan los gráficos\n",
    "plt.show()\n",
    "\n",
    "#Por si queremos hacer df12.loc[df12[\"Country\"]==\"USA\"].groupby(\"State\",as_index=False)[\"CustomerId\"].count().sort_values(\"CustomerId\",ascending=False)\n",
    "\n"
   ]
  }
 ],
 "metadata": {
  "kernelspec": {
   "display_name": "Python 3",
   "language": "python",
   "name": "python3"
  },
  "language_info": {
   "codemirror_mode": {
    "name": "ipython",
    "version": 3
   },
   "file_extension": ".py",
   "mimetype": "text/x-python",
   "name": "python",
   "nbconvert_exporter": "python",
   "pygments_lexer": "ipython3",
   "version": "3.10.11"
  }
 },
 "nbformat": 4,
 "nbformat_minor": 2
}
