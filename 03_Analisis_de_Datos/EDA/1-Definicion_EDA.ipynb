{
 "cells": [
  {
   "cell_type": "markdown",
   "metadata": {},
   "source": [
    "![imagen](./img/ejercicios.png)"
   ]
  },
  {
   "cell_type": "markdown",
   "metadata": {},
   "source": [
    "# INFORMACIÓN DEL PROYECTO"
   ]
  },
  {
   "cell_type": "markdown",
   "metadata": {},
   "source": [
    "### TÍTULO"
   ]
  },
  {
   "cell_type": "markdown",
   "metadata": {},
   "source": [
    "\"¿Qué estamos haciendo con nuestros residuos? Análisis y áreas de mejora para no desechar un planeta con futuro\""
   ]
  },
  {
   "cell_type": "markdown",
   "metadata": {},
   "source": [
    "### TEMA"
   ]
  },
  {
   "cell_type": "markdown",
   "metadata": {},
   "source": [
    "Este trabajo se centra en el análisis de la generación y tratamiento de residuos urbanos. El análisis se enmarca en España y se pretende evaluar a nivel autonómico, debido a que se trata de una competencia transferida. Se abordarán tipologías de residuos, tratamientos y variables influyentes en este campo. La serie temporal principal proveé de datos hasta 2021, por lo tanto, es posible que sea la limitación temporal final.\n",
    "\n",
    "El propósito o destino primero de este análisis está en el análisis y supervisión administrativa, los gobiernos requieren cada vez más de información en el área de sostenibilidad para su gestión. Por lo tanto, abre oportunidades empresariales vinculadas a la mejora en la gestión de datos y también en el área de la economía circular y del empleo verde.\n",
    "\n",
    "El residuo es un área medioambiental a la que se le ha dado relevancia por la propia necesidad de gestión del mismo. Tanto Unión Europea como ONU encuentran preocupante el aumento y la gestión que se hace del mismo, llegando a considerarse  un Objetivo de  Desarrollo Sostenible (Nº11) y a nivel europeo contar con objetivos de reducción que históricamente no llegan a alcanzarse por los territorios y ciudadanos (en cierto modo ajenos).\n",
    "\n",
    "Dónde hay un área de trabajo también hay soluciones, las técnicas de gestión del residuo continúan en desarrollo, las políticas públicas van en la misma dirección y la concienciación sobre la reducción en la generación de residuos va en aumento. Por último, como parte clave de este engranaje está la economía circular, que toma como inputs de producción los propios residuos, reduce la generación ecodiseñando o mejorando la forma de consumo. \n",
    "\n",
    "\n",
    " ![imagen](./img/basura.jpg)"
   ]
  },
  {
   "cell_type": "markdown",
   "metadata": {},
   "source": [
    "### HIPÓTESIS\n"
   ]
  },
  {
   "cell_type": "markdown",
   "metadata": {},
   "source": [
    "Define aquí lo que será la hipótesis de tu proyecto.\n",
    "Deberás tener más de una, pero tu proyecto lo harás teniendo una principal hipótesis."
   ]
  },
  {
   "cell_type": "markdown",
   "metadata": {},
   "source": [
    "hipotesis_1 = \"La generación de residuos va en aumento y las técnicas de tratamiento menos nocivas (reciclado) crecen despacio\""
   ]
  },
  {
   "cell_type": "markdown",
   "metadata": {},
   "source": [
    "hipotesis_2 = \"Hay diferencia en la gestión de residuos según el territorio\"<br>\n",
    "hipotesis_3 = \"Hay fracciones de residuos consideradas más sostenibles que están creciendo -papel- y que no se reciclan tanto\"<br>\n",
    "hipotesis_4 = \"En las Comunidades donde se sitúan las principales ciudades hay mayor generación de residuos per capita\"<br>\n",
    "hipotesis_5 = \"Las actividades económicas que generan más residuos no son las que más invierten y gastan en la protección medioambiental de residuos\"<br>\n",
    "hipotesis_6 = \"El gasto/inversión de empresas y gobiernos para la protección ambiental de residuos va en aumento a una velocidad menor a la generación\"<br>\n",
    "hipotesis_7 = \"Las actividades económicas que generan más residuos no son las que más invierten y gastan en la protección medioambiental de residuos\"<br>\n",
    "hipotesis_8 = \"España no obtiene resultados destacados en reducción de residuos y en su reciclado respecto a Europa\"<br>\n"
   ]
  },
  {
   "cell_type": "markdown",
   "metadata": {},
   "source": [
    "## OBTENCIÓN DE LOS DATOS"
   ]
  },
  {
   "cell_type": "markdown",
   "metadata": {},
   "source": [
    "### DATASETS Y FUENTES ALTERNATIVAS DE DATOS"
   ]
  },
  {
   "cell_type": "markdown",
   "metadata": {},
   "source": [
    "Incluye aquí una vista del dataset o datasets de los que partirás para poder evaluar tu hipótesis. <br>\n",
    "También incluye el origen de estos datos y su fuente."
   ]
  },
  {
   "cell_type": "code",
   "execution_count": 20,
   "metadata": {},
   "outputs": [],
   "source": [
    "import pandas as pd\n",
    "# guarda en variables los datasets y su fuente\n",
    "df_1 = pd.read_csv(\"./data/1.48824.csv\", encoding=\"latin1\")\n",
    "#fuente_1 = \"Cantidad de residuos urbanos recogidos clasificados por tipo de residuo, periodo y comunidades autónomas. INE\"\n",
    "#https://www.ine.es/jaxi/Datos.htm?tpx=48824\n",
    "\n",
    "# df_2 = pd.DataFrame()\n",
    "df_2 = pd.read_csv(\"./data/2.49287.csv\", encoding=\"latin1\")\n",
    "# fuente_2 = \"Cantidad per cápita de residuos recogidos por comunidades autónomas,periodo y clase de residuos. INE\"\n",
    "#https://www.ine.es/jaxi/Tabla.htm?tpx=49287&L=0\n",
    "\n",
    "df_3 = pd.read_csv(\"./data/3.48818.csv\", encoding=\"latin1\")\n",
    "# fuente_3 = \"Gasto en protección ambiental por tipo de gasto y ámbito medioambiental. Todas las actividades.INE\"\n",
    "#https://www.ine.es/jaxi/Tabla.htm?tpx=48818&L=0\n",
    "\n",
    "df_4 = pd.read_csv(\"./data/4.48821.csv\", encoding=\"latin1\")\n",
    "# fuente_4 = \"Inversión en protección ambiental por tipo de equipo e instalación, ámbito medioambiental y agrupación de actividad económica.INE\"\n",
    "#https://www.ine.es/jaxi/Tabla.htm?tpx=48821&L=0\n",
    "\n",
    "df_5 = pd.read_csv(\"./data/5.53477.csv\", encoding=\"latin1\")\n",
    "# fuente_5 = \"Generación de residuos agregados por tipos de residuos, peligrosidad y sectores de actividad económica.INE\"\n",
    "#https://www.ine.es/jaxi/Tabla.htm?tpx=53477&L=0\"\n",
    "\n",
    "df_6 = pd.read_csv(\"./data/6.csv\", encoding=\"latin1\")\n",
    "# fuente_6 = \"Gasto nacional en protección ambiental por ámbito de protección ambiental, estructura porcentual y tasas de variación interanuales.INE\"\n",
    "#https://www.ine.es/jaxi/Tabla.htm?tpx=53472&L=0\n",
    "\n",
    "df_7 = pd.read_csv(\"./data/7cei_wm011_linear.csv\", encoding=\"latin1\")\n",
    "# fuente_7 = \"Recycling rate of municipal waste.EUROSTAT\"\n",
    "#https://ec.europa.eu/eurostat/databrowser/view/cei_wm011/default/table?lang=en&category=cei.cei_wm\n",
    "\n",
    "df_8 = pd.read_csv(\"./data/8cei_pc031_linear.csv\", encoding=\"latin1\")\n",
    "# fuente_8 = \"Generation of municipal waste per capita. EUROSTAT\"\n",
    "#https://ec.europa.eu/eurostat/databrowser/view/cei_pc031/default/table?lang=en&category=cei.cei_pc"
   ]
  },
  {
   "cell_type": "markdown",
   "metadata": {},
   "source": [
    "Muestra mediante un head() los principales datasets con los que vas a trabajar"
   ]
  },
  {
   "cell_type": "code",
   "execution_count": 11,
   "metadata": {},
   "outputs": [
    {
     "data": {
      "text/html": [
       "<div>\n",
       "<style scoped>\n",
       "    .dataframe tbody tr th:only-of-type {\n",
       "        vertical-align: middle;\n",
       "    }\n",
       "\n",
       "    .dataframe tbody tr th {\n",
       "        vertical-align: top;\n",
       "    }\n",
       "\n",
       "    .dataframe thead th {\n",
       "        text-align: right;\n",
       "    }\n",
       "</style>\n",
       "<table border=\"1\" class=\"dataframe\">\n",
       "  <thead>\n",
       "    <tr style=\"text-align: right;\">\n",
       "      <th></th>\n",
       "      <th>Tipo de residuo;Total Nacional;Comunidades y Ciudades Autónomas;periodo;Total</th>\n",
       "    </tr>\n",
       "  </thead>\n",
       "  <tbody>\n",
       "    <tr>\n",
       "      <th>0</th>\n",
       "      <td>10.1.1 Residuos domésticos y similares (domést...</td>\n",
       "    </tr>\n",
       "    <tr>\n",
       "      <th>1</th>\n",
       "      <td>10.1.1 Residuos domésticos y similares (domést...</td>\n",
       "    </tr>\n",
       "    <tr>\n",
       "      <th>2</th>\n",
       "      <td>10.1.1 Residuos domésticos y similares (domést...</td>\n",
       "    </tr>\n",
       "    <tr>\n",
       "      <th>3</th>\n",
       "      <td>10.1.1 Residuos domésticos y similares (domést...</td>\n",
       "    </tr>\n",
       "    <tr>\n",
       "      <th>4</th>\n",
       "      <td>10.1.1 Residuos domésticos y similares (domést...</td>\n",
       "    </tr>\n",
       "  </tbody>\n",
       "</table>\n",
       "</div>"
      ],
      "text/plain": [
       "  Tipo de residuo;Total Nacional;Comunidades y Ciudades Autónomas;periodo;Total\n",
       "0  10.1.1 Residuos domésticos y similares (domést...                           \n",
       "1  10.1.1 Residuos domésticos y similares (domést...                           \n",
       "2  10.1.1 Residuos domésticos y similares (domést...                           \n",
       "3  10.1.1 Residuos domésticos y similares (domést...                           \n",
       "4  10.1.1 Residuos domésticos y similares (domést...                           "
      ]
     },
     "execution_count": 11,
     "metadata": {},
     "output_type": "execute_result"
    }
   ],
   "source": [
    "df_1.head(3)"
   ]
  },
  {
   "cell_type": "code",
   "execution_count": 12,
   "metadata": {},
   "outputs": [
    {
     "data": {
      "text/html": [
       "<div>\n",
       "<style scoped>\n",
       "    .dataframe tbody tr th:only-of-type {\n",
       "        vertical-align: middle;\n",
       "    }\n",
       "\n",
       "    .dataframe tbody tr th {\n",
       "        vertical-align: top;\n",
       "    }\n",
       "\n",
       "    .dataframe thead th {\n",
       "        text-align: right;\n",
       "    }\n",
       "</style>\n",
       "<table border=\"1\" class=\"dataframe\">\n",
       "  <thead>\n",
       "    <tr style=\"text-align: right;\">\n",
       "      <th></th>\n",
       "      <th>Total Nacional;Comunidades y Ciudades Autónomas;Clase de residuos;periodo;Total</th>\n",
       "    </tr>\n",
       "  </thead>\n",
       "  <tbody>\n",
       "    <tr>\n",
       "      <th>Total Nacional;;Residuos mezclados;2021;360</th>\n",
       "      <td>7.0</td>\n",
       "    </tr>\n",
       "    <tr>\n",
       "      <th>Total Nacional;;Residuos mezclados;2020;352</th>\n",
       "      <td>2.0</td>\n",
       "    </tr>\n",
       "    <tr>\n",
       "      <th>Total Nacional;;Residuos mezclados;2019;379</th>\n",
       "      <td>NaN</td>\n",
       "    </tr>\n",
       "    <tr>\n",
       "      <th>Total Nacional;;Residuos mezclados;2018;391</th>\n",
       "      <td>3.0</td>\n",
       "    </tr>\n",
       "    <tr>\n",
       "      <th>Total Nacional;;Residuos mezclados;2017;392</th>\n",
       "      <td>7.0</td>\n",
       "    </tr>\n",
       "  </tbody>\n",
       "</table>\n",
       "</div>"
      ],
      "text/plain": [
       "                                             Total Nacional;Comunidades y Ciudades Autónomas;Clase de residuos;periodo;Total\n",
       "Total Nacional;;Residuos mezclados;2021;360                                                7.0                              \n",
       "Total Nacional;;Residuos mezclados;2020;352                                                2.0                              \n",
       "Total Nacional;;Residuos mezclados;2019;379                                                NaN                              \n",
       "Total Nacional;;Residuos mezclados;2018;391                                                3.0                              \n",
       "Total Nacional;;Residuos mezclados;2017;392                                                7.0                              "
      ]
     },
     "execution_count": 12,
     "metadata": {},
     "output_type": "execute_result"
    }
   ],
   "source": [
    "df_2.head(3)"
   ]
  },
  {
   "cell_type": "code",
   "execution_count": 14,
   "metadata": {},
   "outputs": [
    {
     "data": {
      "text/html": [
       "<div>\n",
       "<style scoped>\n",
       "    .dataframe tbody tr th:only-of-type {\n",
       "        vertical-align: middle;\n",
       "    }\n",
       "\n",
       "    .dataframe tbody tr th {\n",
       "        vertical-align: top;\n",
       "    }\n",
       "\n",
       "    .dataframe thead th {\n",
       "        text-align: right;\n",
       "    }\n",
       "</style>\n",
       "<table border=\"1\" class=\"dataframe\">\n",
       "  <thead>\n",
       "    <tr style=\"text-align: right;\">\n",
       "      <th></th>\n",
       "      <th>Tipo de gasto;Ámbito medioambiental;periodo;Total</th>\n",
       "    </tr>\n",
       "  </thead>\n",
       "  <tbody>\n",
       "    <tr>\n",
       "      <th>0</th>\n",
       "      <td>INVERSIÓN;Total;2021;905.450.137</td>\n",
       "    </tr>\n",
       "    <tr>\n",
       "      <th>1</th>\n",
       "      <td>INVERSIÓN;Total;2020;613.830.529</td>\n",
       "    </tr>\n",
       "    <tr>\n",
       "      <th>2</th>\n",
       "      <td>INVERSIÓN;Total;2019;736.678.289</td>\n",
       "    </tr>\n",
       "  </tbody>\n",
       "</table>\n",
       "</div>"
      ],
      "text/plain": [
       "  Tipo de gasto;Ámbito medioambiental;periodo;Total\n",
       "0                  INVERSIÓN;Total;2021;905.450.137\n",
       "1                  INVERSIÓN;Total;2020;613.830.529\n",
       "2                  INVERSIÓN;Total;2019;736.678.289"
      ]
     },
     "execution_count": 14,
     "metadata": {},
     "output_type": "execute_result"
    }
   ],
   "source": [
    "df_3.head(3)"
   ]
  },
  {
   "cell_type": "code",
   "execution_count": 15,
   "metadata": {},
   "outputs": [
    {
     "data": {
      "text/html": [
       "<div>\n",
       "<style scoped>\n",
       "    .dataframe tbody tr th:only-of-type {\n",
       "        vertical-align: middle;\n",
       "    }\n",
       "\n",
       "    .dataframe tbody tr th {\n",
       "        vertical-align: top;\n",
       "    }\n",
       "\n",
       "    .dataframe thead th {\n",
       "        text-align: right;\n",
       "    }\n",
       "</style>\n",
       "<table border=\"1\" class=\"dataframe\">\n",
       "  <thead>\n",
       "    <tr style=\"text-align: right;\">\n",
       "      <th></th>\n",
       "      <th>Tipo de equipo e instalación;Ámbito medioambiental;Agrupación de actividad económica;periodo;Total</th>\n",
       "    </tr>\n",
       "  </thead>\n",
       "  <tbody>\n",
       "    <tr>\n",
       "      <th>0</th>\n",
       "      <td>INVERSIÓN EN EQUIPOS E INSTALACIONES INDEPENDI...</td>\n",
       "    </tr>\n",
       "    <tr>\n",
       "      <th>1</th>\n",
       "      <td>INVERSIÓN EN EQUIPOS E INSTALACIONES INDEPENDI...</td>\n",
       "    </tr>\n",
       "    <tr>\n",
       "      <th>2</th>\n",
       "      <td>INVERSIÓN EN EQUIPOS E INSTALACIONES INDEPENDI...</td>\n",
       "    </tr>\n",
       "  </tbody>\n",
       "</table>\n",
       "</div>"
      ],
      "text/plain": [
       "  Tipo de equipo e instalación;Ámbito medioambiental;Agrupación de actividad económica;periodo;Total\n",
       "0  INVERSIÓN EN EQUIPOS E INSTALACIONES INDEPENDI...                                                \n",
       "1  INVERSIÓN EN EQUIPOS E INSTALACIONES INDEPENDI...                                                \n",
       "2  INVERSIÓN EN EQUIPOS E INSTALACIONES INDEPENDI...                                                "
      ]
     },
     "execution_count": 15,
     "metadata": {},
     "output_type": "execute_result"
    }
   ],
   "source": [
    "df_4.head(3)"
   ]
  },
  {
   "cell_type": "code",
   "execution_count": 16,
   "metadata": {},
   "outputs": [
    {
     "data": {
      "text/html": [
       "<div>\n",
       "<style scoped>\n",
       "    .dataframe tbody tr th:only-of-type {\n",
       "        vertical-align: middle;\n",
       "    }\n",
       "\n",
       "    .dataframe tbody tr th {\n",
       "        vertical-align: top;\n",
       "    }\n",
       "\n",
       "    .dataframe thead th {\n",
       "        text-align: right;\n",
       "    }\n",
       "</style>\n",
       "<table border=\"1\" class=\"dataframe\">\n",
       "  <thead>\n",
       "    <tr style=\"text-align: right;\">\n",
       "      <th></th>\n",
       "      <th>Sectores de actividad económica agregados;Categoría de residuos (CER-Stat) agregada;Peligrosidad;año;Total</th>\n",
       "    </tr>\n",
       "  </thead>\n",
       "  <tbody>\n",
       "    <tr>\n",
       "      <th>A: Agricultura ganadería silvicultura y pesca;(01-03): Químicos;No peligrosos;2021;6.760</th>\n",
       "      <td>30.0</td>\n",
       "    </tr>\n",
       "    <tr>\n",
       "      <th>A: Agricultura ganadería silvicultura y pesca;(01-03): Químicos;No peligrosos;2020;6.796</th>\n",
       "      <td>60.0</td>\n",
       "    </tr>\n",
       "    <tr>\n",
       "      <th>A: Agricultura ganadería silvicultura y pesca;(01-03): Químicos;No peligrosos;2019;6.268</th>\n",
       "      <td>0.0</td>\n",
       "    </tr>\n",
       "  </tbody>\n",
       "</table>\n",
       "</div>"
      ],
      "text/plain": [
       "                                                    Sectores de actividad económica agregados;Categoría de residuos (CER-Stat) agregada;Peligrosidad;año;Total\n",
       "A: Agricultura ganadería silvicultura y pesca;(...                                               30.0                                                         \n",
       "A: Agricultura ganadería silvicultura y pesca;(...                                               60.0                                                         \n",
       "A: Agricultura ganadería silvicultura y pesca;(...                                                0.0                                                         "
      ]
     },
     "execution_count": 16,
     "metadata": {},
     "output_type": "execute_result"
    }
   ],
   "source": [
    "df_5.head(3)"
   ]
  },
  {
   "cell_type": "code",
   "execution_count": 17,
   "metadata": {},
   "outputs": [
    {
     "data": {
      "text/html": [
       "<div>\n",
       "<style scoped>\n",
       "    .dataframe tbody tr th:only-of-type {\n",
       "        vertical-align: middle;\n",
       "    }\n",
       "\n",
       "    .dataframe tbody tr th {\n",
       "        vertical-align: top;\n",
       "    }\n",
       "\n",
       "    .dataframe thead th {\n",
       "        text-align: right;\n",
       "    }\n",
       "</style>\n",
       "<table border=\"1\" class=\"dataframe\">\n",
       "  <thead>\n",
       "    <tr style=\"text-align: right;\">\n",
       "      <th></th>\n",
       "      <th>Tipo de indicador;Ámbito de protección ambiental;periodo;Total</th>\n",
       "    </tr>\n",
       "  </thead>\n",
       "  <tbody>\n",
       "    <tr>\n",
       "      <th>Gasto;TOTAL;2022 (avance);24.812</th>\n",
       "      <td>60.0</td>\n",
       "    </tr>\n",
       "    <tr>\n",
       "      <th>Gasto;TOTAL;2021;21.382</th>\n",
       "      <td>40.0</td>\n",
       "    </tr>\n",
       "    <tr>\n",
       "      <th>Gasto;TOTAL;2020;19.324</th>\n",
       "      <td>60.0</td>\n",
       "    </tr>\n",
       "  </tbody>\n",
       "</table>\n",
       "</div>"
      ],
      "text/plain": [
       "                                  Tipo de indicador;Ámbito de protección ambiental;periodo;Total\n",
       "Gasto;TOTAL;2022 (avance);24.812                                               60.0             \n",
       "Gasto;TOTAL;2021;21.382                                                        40.0             \n",
       "Gasto;TOTAL;2020;19.324                                                        60.0             "
      ]
     },
     "execution_count": 17,
     "metadata": {},
     "output_type": "execute_result"
    }
   ],
   "source": [
    "df_6.head(3)"
   ]
  },
  {
   "cell_type": "code",
   "execution_count": 21,
   "metadata": {},
   "outputs": [
    {
     "data": {
      "text/html": [
       "<div>\n",
       "<style scoped>\n",
       "    .dataframe tbody tr th:only-of-type {\n",
       "        vertical-align: middle;\n",
       "    }\n",
       "\n",
       "    .dataframe tbody tr th {\n",
       "        vertical-align: top;\n",
       "    }\n",
       "\n",
       "    .dataframe thead th {\n",
       "        text-align: right;\n",
       "    }\n",
       "</style>\n",
       "<table border=\"1\" class=\"dataframe\">\n",
       "  <thead>\n",
       "    <tr style=\"text-align: right;\">\n",
       "      <th></th>\n",
       "      <th>DATAFLOW;LAST UPDATE;freq;wst_oper;unit;geo;TIME_PERIOD;OBS_VALUE;OBS_FLAG</th>\n",
       "    </tr>\n",
       "  </thead>\n",
       "  <tbody>\n",
       "    <tr>\n",
       "      <th>0</th>\n",
       "      <td>ESTAT:CEI_WM011(1.0);08/02/2024 11:00;A;RCY;PC...</td>\n",
       "    </tr>\n",
       "    <tr>\n",
       "      <th>1</th>\n",
       "      <td>ESTAT:CEI_WM011(1.0);08/02/2024 11:00;A;RCY;PC...</td>\n",
       "    </tr>\n",
       "    <tr>\n",
       "      <th>2</th>\n",
       "      <td>ESTAT:CEI_WM011(1.0);08/02/2024 11:00;A;RCY;PC...</td>\n",
       "    </tr>\n",
       "  </tbody>\n",
       "</table>\n",
       "</div>"
      ],
      "text/plain": [
       "  DATAFLOW;LAST UPDATE;freq;wst_oper;unit;geo;TIME_PERIOD;OBS_VALUE;OBS_FLAG\n",
       "0  ESTAT:CEI_WM011(1.0);08/02/2024 11:00;A;RCY;PC...                        \n",
       "1  ESTAT:CEI_WM011(1.0);08/02/2024 11:00;A;RCY;PC...                        \n",
       "2  ESTAT:CEI_WM011(1.0);08/02/2024 11:00;A;RCY;PC...                        "
      ]
     },
     "execution_count": 21,
     "metadata": {},
     "output_type": "execute_result"
    }
   ],
   "source": [
    "df_7.head(3)"
   ]
  },
  {
   "cell_type": "code",
   "execution_count": 22,
   "metadata": {},
   "outputs": [
    {
     "data": {
      "text/html": [
       "<div>\n",
       "<style scoped>\n",
       "    .dataframe tbody tr th:only-of-type {\n",
       "        vertical-align: middle;\n",
       "    }\n",
       "\n",
       "    .dataframe tbody tr th {\n",
       "        vertical-align: top;\n",
       "    }\n",
       "\n",
       "    .dataframe thead th {\n",
       "        text-align: right;\n",
       "    }\n",
       "</style>\n",
       "<table border=\"1\" class=\"dataframe\">\n",
       "  <thead>\n",
       "    <tr style=\"text-align: right;\">\n",
       "      <th></th>\n",
       "      <th>DATAFLOW;LAST UPDATE;freq;wst_oper;unit;geo;TIME_PERIOD;OBS_VALUE;OBS_FLAG</th>\n",
       "    </tr>\n",
       "  </thead>\n",
       "  <tbody>\n",
       "    <tr>\n",
       "      <th>0</th>\n",
       "      <td>ESTAT:CEI_PC031(1.0);08/02/2024 11:00;A;GEN;KG...</td>\n",
       "    </tr>\n",
       "    <tr>\n",
       "      <th>1</th>\n",
       "      <td>ESTAT:CEI_PC031(1.0);08/02/2024 11:00;A;GEN;KG...</td>\n",
       "    </tr>\n",
       "    <tr>\n",
       "      <th>2</th>\n",
       "      <td>ESTAT:CEI_PC031(1.0);08/02/2024 11:00;A;GEN;KG...</td>\n",
       "    </tr>\n",
       "  </tbody>\n",
       "</table>\n",
       "</div>"
      ],
      "text/plain": [
       "  DATAFLOW;LAST UPDATE;freq;wst_oper;unit;geo;TIME_PERIOD;OBS_VALUE;OBS_FLAG\n",
       "0  ESTAT:CEI_PC031(1.0);08/02/2024 11:00;A;GEN;KG...                        \n",
       "1  ESTAT:CEI_PC031(1.0);08/02/2024 11:00;A;GEN;KG...                        \n",
       "2  ESTAT:CEI_PC031(1.0);08/02/2024 11:00;A;GEN;KG...                        "
      ]
     },
     "execution_count": 22,
     "metadata": {},
     "output_type": "execute_result"
    }
   ],
   "source": [
    "df_8.head(3)"
   ]
  }
 ],
 "metadata": {
  "kernelspec": {
   "display_name": "Python 3.7.4 64-bit",
   "language": "python",
   "name": "python3"
  },
  "language_info": {
   "codemirror_mode": {
    "name": "ipython",
    "version": 3
   },
   "file_extension": ".py",
   "mimetype": "text/x-python",
   "name": "python",
   "nbconvert_exporter": "python",
   "pygments_lexer": "ipython3",
   "version": "3.10.11"
  },
  "orig_nbformat": 4,
  "vscode": {
   "interpreter": {
    "hash": "90139cb9a825bf3d63f6f6704e828dbd1ff7edbd4d0c6e906a71235d6efc74af"
   }
  }
 },
 "nbformat": 4,
 "nbformat_minor": 2
}
